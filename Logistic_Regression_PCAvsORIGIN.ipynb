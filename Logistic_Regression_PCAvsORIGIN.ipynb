{
 "cells": [
  {
   "cell_type": "markdown",
   "metadata": {},
   "source": [
    "## Import necessary libraries for data manipulation, visualization, and machine learning\n"
   ]
  },
  {
   "cell_type": "code",
   "execution_count": 23,
   "metadata": {},
   "outputs": [],
   "source": [
    "import pandas as pd\n",
    "import matplotlib.pyplot as plt\n",
    "import seaborn as sns\n",
    "import math\n",
    "import sklearn\n",
    "import numpy as np \n",
    "\n",
    "# Suppress warnings for a cleaner output\n",
    "import warnings\n",
    "\n",
    "# Enable inline plotting for matplotlib\n",
    "\n",
    "warnings.filterwarnings('ignore')\n",
    "\n",
    "%matplotlib inline"
   ]
  },
  {
   "cell_type": "code",
   "execution_count": 1,
   "metadata": {},
   "outputs": [
    {
     "name": "stdout",
     "output_type": "stream",
     "text": [
      "here is the x_pca:\n",
      " [[ 2.3731164  -0.21423283]\n",
      " [ 2.26673338  0.31133188]\n",
      " [ 2.45631464 -0.53676429]\n",
      " ...\n",
      " [-0.92003396 -0.2330875 ]\n",
      " [ 1.06858688  0.38135205]\n",
      " [-2.26057846  0.08754796]]\n"
     ]
    }
   ],
   "source": [
    "import pandas as pd\n",
    "import numpy as np\n",
    "import matplotlib.pyplot as plt\n",
    "import statsmodels.api as sm\n",
    "import seaborn as sns\n",
    "from sklearn.decomposition import PCA\n",
    "from sklearn.preprocessing import StandardScaler\n",
    "\n",
    "\n",
    "'''\n",
    "\n",
    "Exploratory Data Analysis\n",
    "\n",
    "0. Extract the data, format to DataFrame\n",
    "1. Some metrics\n",
    "2. Test for normality on the different variables\n",
    "3. Correlation matrix / Covariance matrix\n",
    "4. Principal Component Analysis\n",
    "\n",
    "'''\n",
    "\n",
    "# VISUALIZATION OF THE DATA -----------------------------------------------------------------------------------------\n",
    "\n",
    "# Load the dataset into a pandas DataFrame\n",
    "df = pd.read_csv(\"creditcard_2023.csv\")\n",
    "\n",
    "\n",
    "# Extract the anonymized variables (V1 to V28) for further analysis. Because we are analyzing individual features here, it does not seem pertinent to analyze the id's, the amount or the class of each transaction.\n",
    "anonymized_var = df.loc[:, 'V1':'V28']\n",
    "\n",
    "# Remove extreme outliers for a clearer view of the data. We determine the outliers based on the previous plot. \n",
    "av_no_outliers = anonymized_var[(anonymized_var >= -50).all(axis=1) & (anonymized_var <= 50).all(axis=1)]\n",
    "\n",
    "\n",
    "# Extract the variables and the target column for correlation analysis. Here, we are interested in seeing how each vraiable influences the class.\n",
    "# Hence why we select all variables as well as the class column.\n",
    "df = df.loc[:, 'V1':'Class']\n",
    "\n",
    "\n",
    "# 2PC PCA --------------------------------------------------------------------------------------------------------------\n",
    "\n",
    "# Standardize the features\n",
    "scaler = StandardScaler()               # Create an instance of StandardScaler to standardize the features\n",
    "scaler.fit(df)                          # Fit the scaler to the data (compute the mean and std for scaling)\n",
    "scaled_data = scaler.transform(df)      # Transform the data to have zero mean and unit variance\n",
    "\n",
    "# Perform PCA to reduce dimensions from 30 to 2\n",
    "pca = PCA(n_components=2)               # Create an instance of PCA, specifying the number of components to keep (2)\n",
    "pca.fit(scaled_data)                    # Fit the PCA model to the scaled data\n",
    "x_pca = pca.transform(scaled_data)      # Transform the scaled data into the reduced-dimensional space\n",
    "\n",
    "# Print the PCA-transformed data\n",
    "print(f\"here is the x_pca:\\n {x_pca}\")        \n",
    "\n",
    "\n"
   ]
  },
  {
   "cell_type": "markdown",
   "metadata": {},
   "source": [
    "## Load the dataset from a CSV file\n"
   ]
  },
  {
   "cell_type": "code",
   "execution_count": 25,
   "metadata": {
    "_cell_guid": "",
    "_uuid": ""
   },
   "outputs": [],
   "source": [
    "df_A = pd.read_csv(\"./creditcard_2023.csv\")\n",
    "df_PCA = pd.DataFrame(x_pca, columns=['PC1', 'PC2'])\n",
    "\n"
   ]
  },
  {
   "cell_type": "markdown",
   "metadata": {},
   "source": [
    "## Define feature names and target variable\n",
    "The features are columns 1 to 28 (the first column is and ID and the 29th column is 'amount' which showed after the EDA that isn't correlated that much with the class)\n",
    "\n",
    "\n",
    "The target variable is the last column, indicating whether a transaction is fraudulent"
   ]
  },
  {
   "cell_type": "code",
   "execution_count": 26,
   "metadata": {},
   "outputs": [],
   "source": [
    "feature_names_A = df.iloc[:, 1:29].columns\n",
    "feature_names_PCA = ['PC1', 'PC2']\n",
    "\n",
    "target = 'Class'\n",
    "\n",
    "\n",
    "data_features_A = df_A[feature_names_A]\n",
    "data_features_PCA = df_PCA[feature_names_PCA]\n",
    "\n",
    "data_target = df[target]"
   ]
  },
  {
   "cell_type": "markdown",
   "metadata": {},
   "source": [
    "\n",
    "## Splitting the Data\n",
    "\n",
    "We will use 70% of the data for training and 30% for testing.\n"
   ]
  },
  {
   "cell_type": "code",
   "execution_count": 27,
   "metadata": {},
   "outputs": [],
   "source": [
    "from sklearn.model_selection import train_test_split\n",
    "np.random.seed(123)\n",
    "X_train_A, X_test_A, y_train_A, y_test_A = train_test_split(data_features_A, data_target, \n",
    "                                                    train_size = 0.70, test_size = 0.30, random_state = 1)\n",
    "\n",
    "X_train_PCA, X_test_PCA, y_train_PCA, y_test_PCA = train_test_split(data_features_PCA, data_target, \n",
    "                                                    train_size = 0.70, test_size = 0.30, random_state = 1)"
   ]
  },
  {
   "cell_type": "markdown",
   "metadata": {},
   "source": [
    "## Import the Logistic Regression model from sklearn\n"
   ]
  },
  {
   "cell_type": "code",
   "execution_count": 29,
   "metadata": {},
   "outputs": [],
   "source": [
    "from sklearn.linear_model import LogisticRegression\n",
    "lr_A = LogisticRegression()\n",
    "lr_PCA = LogisticRegression()\n"
   ]
  },
  {
   "cell_type": "markdown",
   "metadata": {},
   "source": [
    "## Fit the logistic regression model to the training data (TRAINING)\n"
   ]
  },
  {
   "cell_type": "code",
   "execution_count": 30,
   "metadata": {},
   "outputs": [
    {
     "data": {
      "text/html": [
       "<style>#sk-container-id-2 {color: black;}#sk-container-id-2 pre{padding: 0;}#sk-container-id-2 div.sk-toggleable {background-color: white;}#sk-container-id-2 label.sk-toggleable__label {cursor: pointer;display: block;width: 100%;margin-bottom: 0;padding: 0.3em;box-sizing: border-box;text-align: center;}#sk-container-id-2 label.sk-toggleable__label-arrow:before {content: \"▸\";float: left;margin-right: 0.25em;color: #696969;}#sk-container-id-2 label.sk-toggleable__label-arrow:hover:before {color: black;}#sk-container-id-2 div.sk-estimator:hover label.sk-toggleable__label-arrow:before {color: black;}#sk-container-id-2 div.sk-toggleable__content {max-height: 0;max-width: 0;overflow: hidden;text-align: left;background-color: #f0f8ff;}#sk-container-id-2 div.sk-toggleable__content pre {margin: 0.2em;color: black;border-radius: 0.25em;background-color: #f0f8ff;}#sk-container-id-2 input.sk-toggleable__control:checked~div.sk-toggleable__content {max-height: 200px;max-width: 100%;overflow: auto;}#sk-container-id-2 input.sk-toggleable__control:checked~label.sk-toggleable__label-arrow:before {content: \"▾\";}#sk-container-id-2 div.sk-estimator input.sk-toggleable__control:checked~label.sk-toggleable__label {background-color: #d4ebff;}#sk-container-id-2 div.sk-label input.sk-toggleable__control:checked~label.sk-toggleable__label {background-color: #d4ebff;}#sk-container-id-2 input.sk-hidden--visually {border: 0;clip: rect(1px 1px 1px 1px);clip: rect(1px, 1px, 1px, 1px);height: 1px;margin: -1px;overflow: hidden;padding: 0;position: absolute;width: 1px;}#sk-container-id-2 div.sk-estimator {font-family: monospace;background-color: #f0f8ff;border: 1px dotted black;border-radius: 0.25em;box-sizing: border-box;margin-bottom: 0.5em;}#sk-container-id-2 div.sk-estimator:hover {background-color: #d4ebff;}#sk-container-id-2 div.sk-parallel-item::after {content: \"\";width: 100%;border-bottom: 1px solid gray;flex-grow: 1;}#sk-container-id-2 div.sk-label:hover label.sk-toggleable__label {background-color: #d4ebff;}#sk-container-id-2 div.sk-serial::before {content: \"\";position: absolute;border-left: 1px solid gray;box-sizing: border-box;top: 0;bottom: 0;left: 50%;z-index: 0;}#sk-container-id-2 div.sk-serial {display: flex;flex-direction: column;align-items: center;background-color: white;padding-right: 0.2em;padding-left: 0.2em;position: relative;}#sk-container-id-2 div.sk-item {position: relative;z-index: 1;}#sk-container-id-2 div.sk-parallel {display: flex;align-items: stretch;justify-content: center;background-color: white;position: relative;}#sk-container-id-2 div.sk-item::before, #sk-container-id-2 div.sk-parallel-item::before {content: \"\";position: absolute;border-left: 1px solid gray;box-sizing: border-box;top: 0;bottom: 0;left: 50%;z-index: -1;}#sk-container-id-2 div.sk-parallel-item {display: flex;flex-direction: column;z-index: 1;position: relative;background-color: white;}#sk-container-id-2 div.sk-parallel-item:first-child::after {align-self: flex-end;width: 50%;}#sk-container-id-2 div.sk-parallel-item:last-child::after {align-self: flex-start;width: 50%;}#sk-container-id-2 div.sk-parallel-item:only-child::after {width: 0;}#sk-container-id-2 div.sk-dashed-wrapped {border: 1px dashed gray;margin: 0 0.4em 0.5em 0.4em;box-sizing: border-box;padding-bottom: 0.4em;background-color: white;}#sk-container-id-2 div.sk-label label {font-family: monospace;font-weight: bold;display: inline-block;line-height: 1.2em;}#sk-container-id-2 div.sk-label-container {text-align: center;}#sk-container-id-2 div.sk-container {/* jupyter's `normalize.less` sets `[hidden] { display: none; }` but bootstrap.min.css set `[hidden] { display: none !important; }` so we also need the `!important` here to be able to override the default hidden behavior on the sphinx rendered scikit-learn.org. See: https://github.com/scikit-learn/scikit-learn/issues/21755 */display: inline-block !important;position: relative;}#sk-container-id-2 div.sk-text-repr-fallback {display: none;}</style><div id=\"sk-container-id-2\" class=\"sk-top-container\"><div class=\"sk-text-repr-fallback\"><pre>LogisticRegression()</pre><b>In a Jupyter environment, please rerun this cell to show the HTML representation or trust the notebook. <br />On GitHub, the HTML representation is unable to render, please try loading this page with nbviewer.org.</b></div><div class=\"sk-container\" hidden><div class=\"sk-item\"><div class=\"sk-estimator sk-toggleable\"><input class=\"sk-toggleable__control sk-hidden--visually\" id=\"sk-estimator-id-2\" type=\"checkbox\" checked><label for=\"sk-estimator-id-2\" class=\"sk-toggleable__label sk-toggleable__label-arrow\">LogisticRegression</label><div class=\"sk-toggleable__content\"><pre>LogisticRegression()</pre></div></div></div></div></div>"
      ],
      "text/plain": [
       "LogisticRegression()"
      ]
     },
     "execution_count": 30,
     "metadata": {},
     "output_type": "execute_result"
    }
   ],
   "source": [
    "lr_A.fit(X_train_A, y_train_A)\n",
    "lr_PCA.fit(X_train_PCA, y_train_PCA)"
   ]
  },
  {
   "cell_type": "markdown",
   "metadata": {},
   "source": [
    "## Define a function to print the statistics of the confusion matrix\n"
   ]
  },
  {
   "cell_type": "code",
   "execution_count": 31,
   "metadata": {},
   "outputs": [],
   "source": [
    "def PrintStats(cmat, y_test, pred):\n",
    "    tpos = cmat[0][0]\n",
    "    fneg = cmat[1][1]\n",
    "    fpos = cmat[0][1]\n",
    "    tneg = cmat[1][0]"
   ]
  },
  {
   "cell_type": "markdown",
   "metadata": {},
   "source": [
    "## Define a function to run the model and return the confusion matrix and predictions\n"
   ]
  },
  {
   "cell_type": "code",
   "execution_count": 32,
   "metadata": {},
   "outputs": [],
   "source": [
    "def RunModel(model, X_train, y_train, X_test, y_test):\n",
    "    model.fit(X_train, y_train.values.ravel())\n",
    "    pred = model.predict(X_test)\n",
    "    matrix = confusion_matrix(y_test, pred)\n",
    "    return matrix, pred"
   ]
  },
  {
   "cell_type": "markdown",
   "metadata": {},
   "source": [
    "## Import metrics from sklearn to evaluate the model\n"
   ]
  },
  {
   "cell_type": "code",
   "execution_count": 33,
   "metadata": {},
   "outputs": [],
   "source": [
    "from sklearn.metrics import accuracy_score, confusion_matrix, classification_report, roc_auc_score, roc_curve\n",
    "import scikitplot as skplt"
   ]
  },
  {
   "cell_type": "markdown",
   "metadata": {},
   "source": [
    "## Run the logistic regression model and get the confusion matrix and predictions\n"
   ]
  },
  {
   "cell_type": "code",
   "execution_count": 34,
   "metadata": {},
   "outputs": [],
   "source": [
    "cmat_A, pred_A = RunModel(lr_A, X_train_A, y_train_A, X_test_A, y_test_A)\n",
    "\n",
    "cmat_PCA, pred_PCA = RunModel(lr_PCA, X_train_PCA, y_train_PCA, X_test_PCA, y_test_PCA)"
   ]
  },
  {
   "cell_type": "markdown",
   "metadata": {},
   "source": [
    "## Plot the confusion matrix using scikit-plot\n"
   ]
  },
  {
   "cell_type": "code",
   "execution_count": 36,
   "metadata": {},
   "outputs": [
    {
     "data": {
      "text/plain": [
       "<Axes: title={'center': 'Confusion Matrix for PCA Data'}, xlabel='Predicted label', ylabel='True label'>"
      ]
     },
     "execution_count": 36,
     "metadata": {},
     "output_type": "execute_result"
    },
    {
     "data": {
      "image/png": "[encoded data removed]",
      "text/plain": [
       "<Figure size 640x480 with 2 Axes>"
      ]
     },
     "metadata": {},
     "output_type": "display_data"
    },
    {
     "data": {
      "image/png": "[encoded data removed]",
      "text/plain": [
       "<Figure size 640x480 with 2 Axes>"
      ]
     },
     "metadata": {},
     "output_type": "display_data"
    }
   ],
   "source": [
    "import scikitplot as skplt\n",
    "skplt.metrics.plot_confusion_matrix(y_test_A, pred_A, title=\"Confusion Matrix for Original Data\")\n",
    "\n",
    "skplt.metrics.plot_confusion_matrix(y_test_PCA, pred_PCA, title=\"Confusion Matrix for PCA Data\")"
   ]
  },
  {
   "cell_type": "markdown",
   "metadata": {},
   "source": [
    "## Calculate and print the accuracy score\n"
   ]
  },
  {
   "cell_type": "code",
   "execution_count": 37,
   "metadata": {},
   "outputs": [
    {
     "name": "stdout",
     "output_type": "stream",
     "text": [
      "Accuracy of logistic regression trained on original data : 0.9572188124673924\n",
      "\n",
      "Accuracy of logistic regression trained on PCA data : 0.9662932545474796\n"
     ]
    }
   ],
   "source": [
    "print(f\"Accuracy of logistic regression trained on original data : {accuracy_score(y_test_A, pred_A)}\")\n",
    "\n",
    "print(f\"\\nAccuracy of logistic regression trained on PCA data : {accuracy_score(y_test_PCA, pred_PCA)}\")"
   ]
  },
  {
   "cell_type": "markdown",
   "metadata": {},
   "source": [
    "## Print a detailed classification report\n"
   ]
  },
  {
   "cell_type": "code",
   "execution_count": 38,
   "metadata": {},
   "outputs": [
    {
     "name": "stdout",
     "output_type": "stream",
     "text": [
      "\n",
      "Classification report for original data:\n",
      "              precision    recall  f1-score   support\n",
      "\n",
      "           0       0.93      0.98      0.96     85428\n",
      "           1       0.98      0.93      0.96     85161\n",
      "\n",
      "    accuracy                           0.96    170589\n",
      "   macro avg       0.96      0.96      0.96    170589\n",
      "weighted avg       0.96      0.96      0.96    170589\n",
      "\n"
     ]
    }
   ],
   "source": [
    "print(\"\\nClassification report for original data:\")\n",
    "print (classification_report(y_test_A, pred_A))"
   ]
  },
  {
   "cell_type": "code",
   "execution_count": 39,
   "metadata": {},
   "outputs": [
    {
     "name": "stdout",
     "output_type": "stream",
     "text": [
      "\n",
      "Classification report for PCA data:\n",
      "              precision    recall  f1-score   support\n",
      "\n",
      "           0       0.95      0.98      0.97     85428\n",
      "           1       0.98      0.95      0.97     85161\n",
      "\n",
      "    accuracy                           0.97    170589\n",
      "   macro avg       0.97      0.97      0.97    170589\n",
      "weighted avg       0.97      0.97      0.97    170589\n",
      "\n"
     ]
    }
   ],
   "source": [
    "print(\"\\nClassification report for PCA data:\")\n",
    "print (classification_report(y_test_PCA, pred_PCA))"
   ]
  },
  {
   "cell_type": "markdown",
   "metadata": {},
   "source": [
    "# Logistic Regression\n",
    "\n",
    "## Overview\n",
    "Logistic regression is a statistical method used for binary classification problems, where the goal is to predict one of two possible outcomes. It is a type of regression analysis used to estimate the probability that a given input point belongs to a certain class.\n",
    "\n",
    "---"
   ]
  },
  {
   "cell_type": "markdown",
   "metadata": {},
   "source": [
    "\n",
    "\n",
    "# How It Works\n",
    "### Logistic Function\n",
    "Logistic regression uses the logistic function (also known as the sigmoid function) to map predicted values to probabilities. The logistic function is defined as:\n",
    "\n",
    "\\[ $\\sigma(z) = \\frac{1}{1 + e^{-z}}$ \\]\n",
    "\n",
    "where \\( $z$ \\) is the linear combination of input features.\n",
    "\n",
    "\n",
    "### Probability Output\n",
    "The output of the logistic function is a probability value between 0 and 1. This probability represents the likelihood that the given input belongs to the positive class.\n",
    "\n",
    "\n",
    "### Decision Boundary\n",
    "To make a classification decision, a threshold (usually 0.5) is applied to the probability. If the probability is greater than or equal to the threshold, the input is classified as the positive class; otherwise, it is classified as the negative class.\n",
    "\n",
    "---\n"
   ]
  },
  {
   "cell_type": "markdown",
   "metadata": {},
   "source": [
    "\n",
    "# Logistic Regression Model\n",
    "### Linear Combination\n",
    "The model calculates a linear combination of the input features:\n",
    "\n",
    "\\[ $z = \\beta_0 + \\beta_1 x_1 + \\beta_2 x_2 + \\cdots + \\beta_n x_n$ \\]\n",
    "\n",
    "where \\( $\\beta_0$ \\) is the intercept and \\( $\\beta_1, \\beta_2, \\ldots, \\beta_n $\\) are the coefficients.\n",
    "\n",
    "### Training\n",
    "The coefficients are estimated from the training data by maximizing the likelihood of observing the given data. This is typically done using optimization algorithms like gradient descent.\n",
    "\n",
    "### Loss Function\n",
    "The loss function used is the logistic loss (or log loss), which measures the performance of the classification model. It is defined as:\n",
    "\n",
    "\\[ $\\text{Log Loss} = -\\frac{1}{N} \\sum_{i=1}^N \\left[ y_i \\log(p_i) + (1 - y_i) \\log(1 - p_i) \\right]$ \\]\n",
    "\n",
    "where \\($ y_i $\\) is the actual label, \\( $p_i $\\) is the predicted probability, and \\( $N$ \\) is the number of observations.\n",
    "\n",
    "---"
   ]
  },
  {
   "cell_type": "markdown",
   "metadata": {},
   "source": [
    "## Application to Fraud Detection\n",
    "\n",
    "\n",
    "In the context of logistic regression, \\( $z $\\) is the linear combination of the input features and their corresponding coefficients, plus the intercept. It represents the raw score obtained from applying the linear model to the input features before it is passed through the sigmoid function to map it to a probability.\n",
    "\n",
    "In terms of the dataset and the logistic regression model defined in your code, \\( $z$ \\) is calculated as follows:\n",
    "\n",
    "\\[ $z = \\beta_0 + \\beta_1 x_1 + \\beta_2 x_2 + \\cdots + \\beta_n x_n$ \\]\n",
    "\n",
    "Where:\n",
    "\n",
    "- \\( $\\beta_0$ \\) is the intercept (also known as the bias term).\n",
    "- \\( $\\beta_1, \\beta_2, \\ldots, \\beta_n$ \\) are the coefficients learned by the logistic regression model during training.\n",
    "- \\( $x_1, x_2, \\ldots, x_n$ \\) are the feature values for a given instance in the dataset.\n",
    "\n",
    "In your dataset:\n",
    "\n",
    "- The feature values \\( $x_1, x_2, \\ldots, x_n $\\) correspond to the columns from the 2nd to the 29th (i.e., columns 1 to 28 in zero-based indexing of the DataFrame).\n",
    "- Each \\( $x_i $\\) is a value from these feature columns for a particular transaction record.\n",
    "\n",
    "The sigmoid function \\( $\\sigma(z)$ \\) then maps this \\( $z $\\) value to a probability between 0 and 1:\n",
    "\n",
    "\\[ $\\sigma(z) = \\frac{1}{1 + e^{-z}}$ \\]\n",
    "\n",
    "This probability represents the likelihood of the transaction being classified as fraudulent (or not fraudulent, depending on how the classes are labeled in your target variable).\n",
    "\n",
    "In summary, in our dataset, \\($ z $\\) corresponds to the combined effect of the features for a particular transaction, weighted by the coefficients learned during training, and adjusted by the intercept term. This \\($ z $\\) value is then transformed by the sigmoid function to produce a probability estimate for the binary classification of fraud detection.\n"
   ]
  }
 ],
 "metadata": {
  "kernelspec": {
   "display_name": "Python 3",
   "language": "python",
   "name": "python3"
  },
  "language_info": {
   "codemirror_mode": {
    "name": "ipython",
    "version": 3
   },
   "file_extension": ".py",
   "mimetype": "text/x-python",
   "name": "python",
   "nbconvert_exporter": "python",
   "pygments_lexer": "ipython3",
   "version": "3.11.7"
  }
 },
 "nbformat": 4,
 "nbformat_minor": 4
}
