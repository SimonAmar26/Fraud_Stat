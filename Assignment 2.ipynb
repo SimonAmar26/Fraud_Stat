{
 "cells": [
  {
   "cell_type": "markdown",
   "metadata": {},
   "source": [
    "# Marketing Analytics : Assignment 2 by Kerrian Le Bars"
   ]
  },
  {
   "cell_type": "markdown",
   "metadata": {},
   "source": [
    "## Demand and Profitability Analysis for a Multi-Product Category "
   ]
  },
  {
   "cell_type": "markdown",
   "metadata": {},
   "source": [
    "You are a marketing analytic consultant doing category analysis for a multi-product category. You are asked to perform pricing and profitability analysis for this category. The market has three products sold by different firms: 1, 2, and 3. You have been informed that the marginal cost of the products are C1 = $0.5, C2 = $0.75, C3 = $0.9, and the retail margin for all the products is 10%. We denote the prices of the three products as P1, P2 and P3. \n",
    "\n",
    "Based on the demand models that your data science team has run on the sales and pricing data for this category, you know that the own and cross price elasticities for the three products can be specified using the following demand system :\n",
    "\n",
    "$Q_{1} = A_{1} \\cdot P_{1}^{-2.5} \\cdot P_{2}^{1.5} \\cdot P_{3}^{1.2}$\n",
    "\n",
    "$Q_{2} = A_{2} \\cdot P_{1}^{0.7} \\cdot P_{2}^{-1.5} \\cdot P_{3}^{0.5}$\n",
    "\n",
    "$Q_{3} = A_{3} \\cdot P_{1}^{0.7} \\cdot P_{2}^{0.4} \\cdot P_{3}^{-1.2}$\n",
    "\n",
    "Further, the base prices of three products are given as : P1 = $2, P2 = $1.75 and P3 = $1.5"
   ]
  },
  {
   "cell_type": "code",
   "execution_count": 1,
   "metadata": {},
   "outputs": [],
   "source": [
    "# Import the numpy library for numerical operations, including arrays and mathematical functions\n",
    "import numpy as np\n",
    "\n",
    "# Import the pandas library for data manipulation and analysis, particularly for handling dataframes\n",
    "import pandas as pd\n",
    "\n",
    "# Import the symbols, Eq, and solve functions from the sympy library for symbolic mathematics\n",
    "from sympy import symbols, Eq, solve"
   ]
  },
  {
   "cell_type": "markdown",
   "metadata": {},
   "source": [
    "### Question 1"
   ]
  },
  {
   "cell_type": "markdown",
   "metadata": {},
   "source": [
    "***What are the own price elasticites of the three products?***"
   ]
  },
  {
   "cell_type": "markdown",
   "metadata": {},
   "source": [
    "The demand for product i in the market with k product is :\n",
    "\n",
    "$Q_{i} = A_{i} \\cdot P_{1}^{b_{i,1}} \\cdot P_{2}^{b_{i,2}} ... \\cdot P_{k}^{b_{i,k}}$\n",
    "\n",
    "The coefficient on the price of product i in the demand equation for product i is the own price elasticity of product i :\n",
    "\n",
    "$b_{i,i} = \\frac{\\partial Q_{i}}{\\partial P_{i}} \\cdot \\frac{P_{i}}{Q_{i}}$"
   ]
  },
  {
   "cell_type": "markdown",
   "metadata": {},
   "source": [
    "We deduce that the own price elasticity for :\n",
    "- the product 1 is $b_{1,1}$ that equal to -2.5\n",
    "- the product 2 is $b_{2,2}$ that equal to -1.5\n",
    "- the product 3 is $b_{3,3}$ that equal to -1.2"
   ]
  },
  {
   "cell_type": "markdown",
   "metadata": {},
   "source": [
    "### Question 2"
   ]
  },
  {
   "cell_type": "markdown",
   "metadata": {},
   "source": [
    "***Write down a matrix of price elasticities***"
   ]
  },
  {
   "cell_type": "code",
   "execution_count": 2,
   "metadata": {},
   "outputs": [],
   "source": [
    "def price_elasticity_matrix(elasticities):\n",
    "    \"\"\"\n",
    "    Creates a DataFrame representing the price elasticity matrix for a given set of products.\n",
    "    \n",
    "    Parameters:\n",
    "    - elasticities: A 2D list or array where each entry elasticities[i][j] represents the \n",
    "                    elasticity of quantity demanded for product i with respect to the price of product j.\n",
    "                    \n",
    "    Returns:\n",
    "    - A pandas DataFrame where rows represent products' quantities (Q1, Q2, ..., Qn) and \n",
    "      columns represent products' prices (P1, P2, ..., Pn), allowing for clear labeling of the elasticity matrix.\n",
    "    \"\"\"\n",
    "    \n",
    "    # Step 1: Determine the number of products based on the length of the elasticity matrix.\n",
    "    num_products = len(elasticities)\n",
    "    \n",
    "    # Step 2: Create row labels (index) for the DataFrame.\n",
    "    # Each row label corresponds to the quantity of a product, labeled as Q1, Q2, ..., Qn.\n",
    "    index_labels = [f\"Q{i+1}\" for i in range(num_products)]\n",
    "    \n",
    "    # Step 3: Create column labels for the DataFrame.\n",
    "    # Each column label corresponds to the price of a product, labeled as P1, P2, ..., Pn.\n",
    "    column_labels = [f\"P{i+1}\" for i in range(num_products)]\n",
    "    \n",
    "    # Step 4: Create a pandas DataFrame with the given elasticity values.\n",
    "    # - `elasticities` is the data for the matrix.\n",
    "    # - `index=index_labels` sets the row labels to Q1, Q2, ..., Qn.\n",
    "    # - `columns=column_labels` sets the column labels to P1, P2, ..., Pn.\n",
    "    elasticity_df = pd.DataFrame(\n",
    "        elasticities,\n",
    "        index=index_labels,\n",
    "        columns=column_labels\n",
    "    )\n",
    "    \n",
    "    # Step 5: Return the DataFrame, which represents the elasticity matrix with clear labeling.\n",
    "    return elasticity_df"
   ]
  },
  {
   "cell_type": "code",
   "execution_count": 3,
   "metadata": {},
   "outputs": [
    {
     "name": "stdout",
     "output_type": "stream",
     "text": [
      "     P1   P2   P3\n",
      "Q1 -2.5  1.5  1.2\n",
      "Q2  0.7 -1.5  0.5\n",
      "Q3  0.7  0.4 -1.2\n"
     ]
    }
   ],
   "source": [
    "# Step 1: Define the elasticity matrix as a 2D list.\n",
    "# This matrix represents how the quantity demanded of each product (rows) responds to changes\n",
    "# in the price of each product (columns).\n",
    "elasticities = [\n",
    "    [-2.5, 1.5, 1.2],   # Elasticities for the first product with respect to P1, P2, and P3\n",
    "    [0.7, -1.5, 0.5],    # Elasticities for the second product with respect to P1, P2, and P3\n",
    "    [0.7, 0.4, -1.2]     # Elasticities for the third product with respect to P1, P2, and P3\n",
    "]\n",
    "\n",
    "# Step 2: Create the elasticity matrix DataFrame using the function defined earlier.\n",
    "# `price_elasticity_matrix(elasticities)` converts the list of lists into a labeled DataFrame,\n",
    "# making it easier to interpret the elasticity relationships between products.\n",
    "elasticity_matrix = price_elasticity_matrix(elasticities)\n",
    "\n",
    "# Step 3: Display the elasticity matrix.\n",
    "# This shows the DataFrame with labels for quantities (rows) and prices (columns),\n",
    "# providing a clear, tabular view of cross-product elasticity values.\n",
    "print(elasticity_matrix)"
   ]
  },
  {
   "cell_type": "markdown",
   "metadata": {},
   "source": [
    "Using the fact that $b_{i,j}$ corresponds to the quantity of product i with respect to the price of j, we have that the matrix of price elasticities is :\n",
    "\n",
    "$\\begin{bmatrix}\n",
    "b_{1,1} & b_{1,2} & b_{1,3} \\\\\n",
    "b_{2,1} & b_{2,2} & b_{2,3} \\\\\n",
    "b_{3,1} & b_{3,2} & b_{3,3}\n",
    "\\end{bmatrix}$ =\n",
    "$\\begin{bmatrix}\n",
    "-2.5 & 1.5 & 1.2 \\\\\n",
    "0.7 & -1.5 & 0.5 \\\\\n",
    "0.7 & 0.4 & -1.2\n",
    "\\end{bmatrix}$\n",
    "\n",
    "As we can see, we get the same matrix as the one produced by our function \"price_elasticity_matrix\"."
   ]
  },
  {
   "cell_type": "markdown",
   "metadata": {},
   "source": [
    "### Question 3"
   ]
  },
  {
   "cell_type": "markdown",
   "metadata": {},
   "source": [
    "Now assume that product 1 increases its price by $γ_{1} = 0.05$, product 2 keeps its price constant ($γ_{2} = 0$) and product 3 reduces its price by $γ_{3} = -0.15$. Calculate what happens to the quantities of the three products"
   ]
  },
  {
   "cell_type": "markdown",
   "metadata": {},
   "source": [
    "#### Question A"
   ]
  },
  {
   "cell_type": "markdown",
   "metadata": {},
   "source": [
    "***Calculate (using a calculator) the ratio of new quantity to the old quantity for each of the three products : $\\frac{Q_{1,1}}{Q_{1,0}}$, $\\frac{Q_{2,1}}{Q_{2,0}}$ and $\\frac{Q_{3,1}}{Q_{3,0}}$. Please show the formulae used and the steps in your calculation.***"
   ]
  },
  {
   "cell_type": "markdown",
   "metadata": {},
   "source": [
    "The ratio of unit sales of product i after versus before the price change is :\n",
    "\n",
    "$\\frac{Q_{i,1}}{Q_{i,0}} = (1+γ_{1})^{b_{i,1}} \\cdot (1+γ_{2})^{b_{i,2}} ... \\cdot (1+γ_{k})^{b_{i,k}}$"
   ]
  },
  {
   "cell_type": "markdown",
   "metadata": {},
   "source": [
    "So we can compute the quantity ratio of each of the three products :\n",
    "\n",
    "- For the product 1, the ratio between the quantity after the price change and before the price change is :\n",
    "\n",
    "    ⇔  $\\frac{Q_{1,1}}{Q_{1,0}} = (1+γ_{1})^{b_{1,1}} \\cdot (1+γ_{2})^{b_{1,2}} \\cdot (1+γ_{3})^{b_{1,3}}$\n",
    "\n",
    "    ⇔  $\\frac{Q_{1,1}}{Q_{1,0}} = (1+00.5)^{-2.5} \\cdot (1+0)^{1.5} \\cdot (1-0.15)^{1.2}$\n",
    "\n",
    "    ⇔  $\\frac{Q_{1,1}}{Q_{1,0}} ≈ 0.885 \\cdot 1 \\cdot 0.823$\n",
    "\n",
    "    ⇔  $\\frac{Q_{1,1}}{Q_{1,0}} ≈ 0.728$\n",
    "\n",
    "- For the product 2, the ratio between the quantity after the price change and before the price change is :\n",
    "\n",
    "    ⇔  $\\frac{Q_{2,1}}{Q_{2,0}} = (1+γ_{1})^{b_{2,1}} \\cdot (1+γ_{2})^{b_{2,2}} \\cdot (1+γ_{3})^{b_{2,3}}$\n",
    "\n",
    "    ⇔  $\\frac{Q_{2,1}}{Q_{2,0}} = (1+00.5)^{0.7} \\cdot (1+0)^{-1.5} \\cdot (1-0.15)^{0.5}$\n",
    "\n",
    "    ⇔  $\\frac{Q_{2,1}}{Q_{2,0}} ≈ 1.035 \\cdot 1 \\cdot 0.922$\n",
    "\n",
    "    ⇔  $\\frac{Q_{2,1}}{Q_{2,0}} ≈ 0.954$\n",
    "\n",
    "- For the product 2, the ratio between the quantity after the price change and before the price change is :\n",
    "\n",
    "    ⇔  $\\frac{Q_{3,1}}{Q_{3,0}} = (1+γ_{1})^{b_{3,1}} \\cdot (1+γ_{2})^{b_{3,2}} \\cdot (1+γ_{3})^{b_{3,3}}$\n",
    "\n",
    "    ⇔  $\\frac{Q_{3,1}}{Q_{3,0}} = (1+00.5)^{0.7} \\cdot (1+0)^{0.4} \\cdot (1-0.15)^{-1.2}$\n",
    "\n",
    "    ⇔  $\\frac{Q_{3,1}}{Q_{3,0}} ≈ 1.035 \\cdot 1 \\cdot 1.215$\n",
    "\n",
    "    ⇔  $\\frac{Q_{3,1}}{Q_{3,0}} ≈ 1.258$"
   ]
  },
  {
   "cell_type": "markdown",
   "metadata": {},
   "source": [
    "#### Question B"
   ]
  },
  {
   "cell_type": "markdown",
   "metadata": {},
   "source": [
    "***Interpret and discuss why each of these changes is happening. Which products see an increase in demand and which see a decrease (and why)?***"
   ]
  },
  {
   "cell_type": "markdown",
   "metadata": {},
   "source": [
    "Product 1 : Price Increase\n",
    "\n",
    "The ratio of the quantity after the price change to the quantity before the price change is $\\frac{Q_{1,1}}{Q_{1,0}} ≈ 0.728$\n",
    "\n",
    "- The price of Product 1 increases by 5% ($γ_{1} = 0.05$)\n",
    "- The exponent for Product 1 with respect to its own price is $b_{1,1} = -2.5$, which is highly negative. This means that Product 1 has a very elastic demand with respect to its own price: a small price increase leads to a large reduction in quantity demanded.\n",
    "- Product 2’s price does not change ($γ_{2} = 0$), so it has no effect on Product 1’s demand.\n",
    "- Product 3’s price decreases by 15% ($γ_{3} = -0.15$) and the elasticity for Product 1 with respect to Product 3 is $b_{1,3} = 1.2$, which implies that the demand for Product 1 slightly increases due to the decrease in Product 3's price, but this effect is much weaker than the negative effect of the price increase for Product 1 itself.\n",
    "\n",
    "Therefore, the overall effect is a decrease in the quantity demanded for Product 1 by approximately 27%."
   ]
  },
  {
   "cell_type": "markdown",
   "metadata": {},
   "source": [
    "Product 2 : Price Constant\n",
    "\n",
    "The ratio of the quantity after the price change to the quantity before the price change is $\\frac{Q_{2,1}}{Q_{2,0}} ≈ 0.954$\n",
    "\n",
    "- The price of Product 1 increases by 5% ($γ_{1} = 0.05$)\n",
    "- The exponent for Product 2 with respect to Product 1 is $b_{2,1} = 0.7$, which is positive. This means that Product 2 has a substitute relationship with Product 1: as the price of Product 1 increases, the demand for Product 2 increases.\n",
    "- The price of Product 2 itself does not change ($γ_{2} = 0$), so there’s no direct effect on its own demand.\n",
    "- The price of Product 3 decreases by 15% ($γ_{3} = -0.15$) and the exponent for Product 2 with respect to Product 3 is $b_{2,3} = 0.5$, indicating that Product 2 is a substitute to Product 3 as well. Therefore, the decrease in Product 3’s price reduces the demand for Product 2 and this effect is stronger than the positive effect from the price increase of Product 1.\n",
    "\n",
    "Thus, the overall demand for Product 2 decreases by approximately 4.6%."
   ]
  },
  {
   "cell_type": "markdown",
   "metadata": {},
   "source": [
    "Product 3 : Price Decrease\n",
    "\n",
    "The ratio of the quantity after the price change to the quantity before the price change is $\\frac{Q_{3,1}}{Q_{3,0}} ≈ 1.258$\n",
    "\n",
    "- The price of Product 1 increases by 5% ($γ_{1} = 0.05$)\n",
    "- The exponent for Product 3 with respect to Product 1 is $b_{3,1} = 0.7$, indicating that an increase in Product 1’s price increases the demand for Product 3.\n",
    "- Product 2's price does not change ($γ_{2} = 0$), so it has no direct effect on Product 3’s demand.\n",
    "- The price of Product 3 decreases by 15% ($γ_{3} = -0.15$) and the exponent for Product 3 with respect to its own price is $b_{3,3} = -1.2$. This strong negative elasticity with respect to its own price means that a decrease in the price of Product 3 results in a significant increase in demand for Product 3.\n",
    "\n",
    "The combination of the price increase of Product 1 and the price reduction of Product 3 causes the demand for Product 3 to increase by approximately 25.8%."
   ]
  },
  {
   "cell_type": "markdown",
   "metadata": {},
   "source": [
    "#### Question C"
   ]
  },
  {
   "cell_type": "markdown",
   "metadata": {},
   "source": [
    "***Write a function that takes as input – (1) the price changes for the three products ($γ_{1}$, $γ_{2}$, $γ_{3}$) and (2) price elasticities and cross price elasticties for all the products, and gives as output the the ratio of the new to old quantities for the three products.***"
   ]
  },
  {
   "cell_type": "code",
   "execution_count": 4,
   "metadata": {},
   "outputs": [],
   "source": [
    "def quantity_ratio(price_changes, elasticities):\n",
    "    \"\"\"\n",
    "    Calculate the ratio of unit sales after versus before the price change for each product.\n",
    "\n",
    "    Parameters:\n",
    "    - price_changes (list of float): The price changes [γ1, γ2, γ3, ...]. \n",
    "      This list represents the percentage change in price for each product.\n",
    "    - elasticities (list of list of float): An NxN list where each sub-list contains\n",
    "      the elasticities for a product with respect to each product's price.\n",
    "      The elasticities matrix describes how the quantity demanded of each product responds \n",
    "      to price changes of all products.\n",
    "\n",
    "    Returns:\n",
    "    - dict: A dictionary containing the quantity ratios for each product, labeled \n",
    "      as 'quantity_ratio_1', 'quantity_ratio_2', etc.\n",
    "      The value for each product is the ratio of quantity sold after the price change \n",
    "      relative to the quantity before the price change.\n",
    "    \"\"\"\n",
    "    \n",
    "    # Step 1: Initialize a dictionary to store the calculated quantity ratios.\n",
    "    # The dictionary will map keys like 'quantity_ratio_1', 'quantity_ratio_2', etc., \n",
    "    # to the respective quantity ratio for each product.\n",
    "    quantity_ratios = {}\n",
    "\n",
    "    # Step 2: Determine the number of products based on the size of the elasticities matrix.\n",
    "    # The number of products is equal to the number of rows (or columns) in the elasticities matrix.\n",
    "    num_products = len(elasticities)\n",
    "    \n",
    "    # Step 3: Loop through each product to calculate its quantity ratio.\n",
    "    for i in range(num_products):\n",
    "        # Initialize the quantity ratio for product i to 1 (the base case before any price change).\n",
    "        ratio = 1\n",
    "        \n",
    "        # Step 4: Loop through each price change for all products (j = 0 to num_products-1).\n",
    "        # This nested loop accounts for the effect of each product’s price change on the \n",
    "        # quantity demanded of product i, according to the elasticities.\n",
    "        for j in range(num_products):\n",
    "            # Update the quantity ratio by multiplying with the appropriate elasticity factor.\n",
    "            # The term (1 + price_changes[j]) accounts for the price change effect on product j,\n",
    "            # and this is raised to the power of the elasticity between product i and product j.\n",
    "            ratio *= (1 + price_changes[j]) ** elasticities[i][j]\n",
    "        \n",
    "        # Step 5: Store the calculated ratio for product i in the dictionary with a corresponding label.\n",
    "        # The key is a string such as 'quantity_ratio_product_1', 'quantity_ratio_product_2', etc.\n",
    "        quantity_ratios[f'quantity_ratio_product_{i+1}'] = ratio\n",
    "    \n",
    "    # Step 6: Return the dictionary containing the quantity ratios for each product.\n",
    "    return quantity_ratios"
   ]
  },
  {
   "cell_type": "markdown",
   "metadata": {},
   "source": [
    "#### Question D"
   ]
  },
  {
   "cell_type": "markdown",
   "metadata": {},
   "source": [
    "***Evaluate the function at the values of γ1, γ2, γ3 specified earlier and store the results in an array named \"quantity_changes\". Check if the results from the function are the same as that in Question A.***"
   ]
  },
  {
   "cell_type": "code",
   "execution_count": 5,
   "metadata": {},
   "outputs": [
    {
     "name": "stdout",
     "output_type": "stream",
     "text": [
      "{'quantity_ratio_product_1': 0.7283321201492527, 'quantity_ratio_product_2': 0.95398593595287, 'quantity_ratio_product_3': 1.2575631372951144}\n",
      "<class 'dict'>\n"
     ]
    }
   ],
   "source": [
    "# Step 1: Define the price changes as a list.\n",
    "# `price_changes` represents the percentage change in prices for each product.\n",
    "# Here, product 1 has a price increase of 5% (0.05), product 2 has no change in price (0), \n",
    "# and product 3 has a price decrease of 15% (-0.15).\n",
    "price_changes = [0.05, 0, -0.15]\n",
    "\n",
    "# Step 2: Define the elasticity matrix as a 2D list.\n",
    "# This matrix represents the elasticity of quantity demanded for each product (rows)\n",
    "# with respect to the price of each product (columns), similar to before.\n",
    "elasticities = [\n",
    "    [-2.5, 1.5, 1.2],   # Elasticities for the first product with respect to P1, P2, and P3\n",
    "    [0.7, -1.5, 0.5],    # Elasticities for the second product with respect to P1, P2, and P3\n",
    "    [0.7, 0.4, -1.2]     # Elasticities for the third product with respect to P1, P2, and P3\n",
    "]\n",
    "\n",
    "# Step 3: Call the `quantity_ratio` function with the price changes and elasticities.\n",
    "# This function calculates how the quantity demanded for each product changes in response \n",
    "# to the specified price changes, taking into account cross-product elasticities.\n",
    "quantity_ratios = quantity_ratio(price_changes, elasticities)\n",
    "\n",
    "# Step 4: Print the `quantity_ratios` result.\n",
    "# This output shows the calculated quantity ratios for each product after applying the \n",
    "# price changes, reflecting the percentage change in quantity demanded for each product.\n",
    "print(quantity_ratios)\n",
    "\n",
    "# Step 5: Print the type of `quantity_ratios`.\n",
    "# This line verifies that the result is a specific data type (e.g., list, numpy array).\n",
    "print(type(quantity_ratios))"
   ]
  },
  {
   "cell_type": "markdown",
   "metadata": {},
   "source": [
    "To make it easier to read the results of the changes in quantities of the different products, we decided to store them in a dictionary. However, for data manipulation reasons we will transform them into a \"np.array\" format."
   ]
  },
  {
   "cell_type": "code",
   "execution_count": 6,
   "metadata": {},
   "outputs": [
    {
     "name": "stdout",
     "output_type": "stream",
     "text": [
      "[0.72833212 0.95398594 1.25756314]\n",
      "<class 'numpy.ndarray'>\n"
     ]
    }
   ],
   "source": [
    "# Step 1: Convert the `quantity_ratios` values into a NumPy array.\n",
    "# `quantity_ratios` is assumed to be a dictionary with values representing quantity changes\n",
    "# for each product. The `list(quantity_ratios.values())` extracts these values as a list.\n",
    "# Wrapping this in `np.array()` converts the list into a NumPy array.\n",
    "quantity_changes = np.array(list(quantity_ratios.values()))\n",
    "\n",
    "# Step 2: Print the `quantity_changes` array.\n",
    "# This will output the array containing quantity change values, making it easy to see \n",
    "# the percentage or ratio adjustments for each product's quantity demanded.\n",
    "print(quantity_changes)\n",
    "\n",
    "# Step 3: Print the type of `quantity_changes`.\n",
    "# This confirms that `quantity_changes` is a NumPy array.\n",
    "# Expected output: <class 'numpy.ndarray'>\n",
    "print(type(quantity_changes))"
   ]
  },
  {
   "cell_type": "markdown",
   "metadata": {},
   "source": [
    "To more easily (and scientifically) compare the results of our function and those performed with the calculator, we decided to create a function capable of calculating the difference in errors in percentage between two arrays."
   ]
  },
  {
   "cell_type": "code",
   "execution_count": 7,
   "metadata": {},
   "outputs": [],
   "source": [
    "def calculate_percentage_errors(array1, array2, absolute=True):\n",
    "    \"\"\"\n",
    "    Calculate the percentage errors between two arrays.\n",
    "\n",
    "    Parameters:\n",
    "    - array1 (list of float): The first array containing the true or original values.\n",
    "    - array2 (list of float): The second array containing the predicted or observed values.\n",
    "    - absolute (bool, optional): If True, calculates the absolute percentage error. \n",
    "      If False, calculates the signed percentage error. Default is True.\n",
    "\n",
    "    Returns:\n",
    "    - list of float: A list of percentage errors between the elements of `array1` and `array2`.\n",
    "    \"\"\"\n",
    "    # Step 1: Check if both arrays have the same length\n",
    "    if len(array1) != len(array2):\n",
    "        raise ValueError(\"Both arrays must have the same length.\")\n",
    "    \n",
    "    # Step 2: Initialize an empty list to store the percentage errors\n",
    "    errors = []\n",
    "    \n",
    "    # Step 3: Loop through corresponding elements of array1 and array2\n",
    "    for a, b in zip(array1, array2):\n",
    "        # Step 4: Ensure that no element in array1 is zero to avoid division by zero\n",
    "        if a == 0:\n",
    "            raise ValueError(\"Values in array1 must be non-zero to calculate percentage errors.\")\n",
    "        \n",
    "        # Step 5: Calculate the percentage error\n",
    "        # If `absolute` is True, calculate the absolute percentage error\n",
    "        if absolute:\n",
    "            error = abs(a - b) / abs(a) * 100\n",
    "        else:\n",
    "            # If `absolute` is False, calculate the signed percentage error\n",
    "            error = ((a - b) / a * 100)\n",
    "        \n",
    "        # Step 6: Append the calculated error to the errors list\n",
    "        errors.append(error)\n",
    "    \n",
    "    # Step 7: Return the list of errors\n",
    "    return errors"
   ]
  },
  {
   "cell_type": "code",
   "execution_count": 8,
   "metadata": {},
   "outputs": [
    {
     "name": "stdout",
     "output_type": "stream",
     "text": [
      "[0.04560009644840444, 0.00147424051026023, 0.03473882876570935]\n"
     ]
    }
   ],
   "source": [
    "# Assign the qunatity changes calculated using elasticities to a variable\n",
    "quantity_changes_python = quantity_changes\n",
    "\n",
    "# Define a numpy array for the actual quantity changes (calculated by hand)\n",
    "quantity_changes_calculator = np.array([0.728, 0.954, 1.258])\n",
    "\n",
    "# Calculate the percentage errors between the two profit change calculations\n",
    "errors = calculate_percentage_errors(quantity_changes_python, quantity_changes_calculator)\n",
    "\n",
    "# Output the calculated errors as a list of percentage differences\n",
    "print(errors)"
   ]
  },
  {
   "cell_type": "markdown",
   "metadata": {},
   "source": [
    "As we can see the difference in errors between the two methods for :\n",
    "\n",
    "- the product 1 is approximatively 0.05%\n",
    "- the product 2 is approximatively 0.001%\n",
    "- the product 3 is approximatively 0.03%\n",
    "\n",
    "We can therefore conclude with confidence that the results between the two methods are substantially identical. The function gives us the same results as the calculations."
   ]
  },
  {
   "cell_type": "markdown",
   "metadata": {},
   "source": [
    "### Question 4"
   ]
  },
  {
   "cell_type": "markdown",
   "metadata": {},
   "source": [
    "Using the same price changes as in Question 3, calculate what happens to the profits of the three products."
   ]
  },
  {
   "cell_type": "markdown",
   "metadata": {},
   "source": [
    "#### Question A"
   ]
  },
  {
   "cell_type": "markdown",
   "metadata": {},
   "source": [
    "***Calculate (using a calculator) the ratio of the new profit to old profit for all three products : $\\frac{π_{1,1}}{π_{1,0}}$, $\\frac{π_{2,1}}{π_{2,0}}$ and $\\frac{π_{3,1}}{π_{3,0}}$ and derive the percentage increase or decrease in profit for all three products. Please show the formulae used and the steps in your calculation.***"
   ]
  },
  {
   "cell_type": "markdown",
   "metadata": {},
   "source": [
    "The base profit of a product i for a base quantity $Q_{i,0}$ sold at a base price $P_{i,0}$ with a retail commission $r_{i}$  is :\n",
    "\n",
    "$π_{i,0} = Q_{i,0} \\cdot (P_{i,0} \\cdot (1-r_{i})-C_{i})$"
   ]
  },
  {
   "cell_type": "markdown",
   "metadata": {},
   "source": [
    "So we deduce that the ratio of profit of product i after versus before the price change is :\n",
    "\n",
    "$\\frac{π_{i,1}}{π_{i,0}} = \\frac{Q_{i,1} \\cdot (P_{i,1} \\cdot (1-r_{i})-C_{i})}{Q_{i,0} \\cdot (P_{i,0} \\cdot (1-r_{i})-C_{i})}$ \n",
    "⇔ $\\frac{π_{i,1}}{π_{i,0}} = \\frac{Q_{i,1}}{Q_{i,0}} \\cdot \\frac{(P_{i,1} \\cdot (1-r_{i})-C_{i})}{(P_{i,0} \\cdot (1-r_{i})-C_{i})}$\n",
    "⇔ $\\frac{π_{1,1}}{π_{1,0}} = \\frac{Q_{i,1}}{Q_{i,0}} \\cdot \\frac{(P_{i,0} \\cdot (1+γ_{i}) \\cdot (1-r_{i})-C_{i})}{(P_{i,0} \\cdot (1-r_{i})-C_{i})}$"
   ]
  },
  {
   "cell_type": "markdown",
   "metadata": {},
   "source": [
    "So we can compute the profit ratio of each of the three products :\n",
    "\n",
    "- For the product 1, the ratio between the profit after the price change and before the price change is :\n",
    "\n",
    "    ⇔ $\\frac{π_{1,1}}{π_{1,0}} = \\frac{Q_{1,1}}{Q_{1,0}} \\cdot \\frac{(P_{1,1} \\cdot (1-r_{1})-C_{1})}{(P_{1,0} \\cdot (1-r_{1})-C_{1})}$\n",
    "\n",
    "    ⇔ $\\frac{π_{1,1}}{π_{1,0}} = \\frac{Q_{1,1}}{Q_{1,0}} \\cdot \\frac{(P_{1,0} \\cdot (1+γ_{1}) \\cdot (1-r_{1})-C_{1})}{(P_{1,0} \\cdot (1-r_{1})-C_{1})}$\n",
    "\n",
    "    ⇔ $\\frac{π_{1,1}}{π_{1,0}} = \\frac{Q_{1,1}}{Q_{1,0}} \\cdot \\frac{(2 \\cdot (1+0.05) \\cdot (1-0.1)-0.5)}{(2 \\cdot (1-0.1)-0.5)}$\n",
    "\n",
    "    ⇔ $\\frac{π_{1,1}}{π_{1,0}} ≈ 0.728 \\cdot \\frac{1.39}{1.3}$\n",
    "\n",
    "    ⇔ $\\frac{π_{1,1}}{π_{1,0}} ≈ 0.778$\n",
    "\n",
    "- For the product 2, the ratio between the profit after the price change and before the price change is :\n",
    "\n",
    "    ⇔ $\\frac{π_{2,1}}{π_{2,0}} = \\frac{Q_{2,1}}{Q_{2,0}} \\cdot \\frac{(P_{2,1} \\cdot (1-r_{2})-C_{2})}{(P_{2,0} \\cdot (1-r_{2})-C_{2})}$\n",
    "\n",
    "    ⇔ $\\frac{π_{2,1}}{π_{2,0}} = \\frac{Q_{2,1}}{Q_{2,0}} \\cdot \\frac{(P_{2,0} \\cdot (1+γ_{2}) \\cdot (1-r_{2})-C_{2})}{(P_{2,0} \\cdot (1-r_{2})-C_{2})}$\n",
    "\n",
    "    ⇔ $\\frac{π_{2,1}}{π_{2,0}} = \\frac{Q_{2,1}}{Q_{2,0}} \\cdot \\frac{(1.75 \\cdot (1+0) \\cdot (1-0.1)-0.75)}{(1.75 \\cdot (1-0.1)-0.75)}$\n",
    "\n",
    "    ⇔ $\\frac{π_{2,1}}{π_{2,0}} ≈ 0.954 \\cdot \\frac{0.825}{0.825}$\n",
    "\n",
    "    ⇔ $\\frac{π_{2,1}}{π_{2,0}} ≈ 0.954$\n",
    "\n",
    "- For the product 3, the ratio between the profit after the price change and before the price change is :\n",
    "\n",
    "    ⇔ $\\frac{π_{3,1}}{π_{3,0}} = \\frac{Q_{3,1}}{Q_{3,0}} \\cdot \\frac{(P_{3,1} \\cdot (1-r_{3})-C_{3})}{(P_{3,0} \\cdot (1-r_{3})-C_{3})}$\n",
    "\n",
    "    ⇔ $\\frac{π_{3,1}}{π_{3,0}} = \\frac{Q_{3,1}}{Q_{3,0}} \\cdot \\frac{(P_{3,0} \\cdot (1+γ_{3}) \\cdot (1-r_{3})-C_{3})}{(P_{3,0} \\cdot (1-r_{3})-C_{3})}$\n",
    "\n",
    "    ⇔ $\\frac{π_{3,1}}{π_{3,0}} = \\frac{Q_{3,1}}{Q_{3,0}} \\cdot \\frac{(1.5 \\cdot (1-0.15) \\cdot (1-0.1)-0.9)}{(1.5 \\cdot (1-0.1)-0.9)}$\n",
    "\n",
    "    ⇔ $\\frac{π_{3,1}}{π_{3,0}} ≈ 1.258 \\cdot \\frac{0.2475}{0.45}$\n",
    "\n",
    "    ⇔ $\\frac{π_{3,1}}{π_{3,0}} ≈ 0.692$\n"
   ]
  },
  {
   "cell_type": "markdown",
   "metadata": {},
   "source": [
    "#### Question B"
   ]
  },
  {
   "cell_type": "markdown",
   "metadata": {},
   "source": [
    "***Interpret and discuss why each of these changes is happening. Which products benefit from the price changes and why (or why not)? Is product 3’s price cut justified ?***"
   ]
  },
  {
   "cell_type": "markdown",
   "metadata": {},
   "source": [
    "Product 1: Price Increase\n",
    "\n",
    "The ratio of the profit after the price change to the profit before the price change is $\\frac{π_{1,1}}{π_{1,0}} ≈ 0.778$\n",
    "\n",
    "- The price increase results in a decrease in demand, as shown by the quantity ratio ($≈ 0.728$) due to the reasons explained in Question 3.\n",
    "- Despite the drop in demand, the profit per unit increases due to the price increase, but this does not fully offset the demand loss.\n",
    "- The overall profit decreases to about 78% of the original profit, indicating that the price increase is not beneficial in this case. The demand reduction outweighs the positive impact of the price hike."
   ]
  },
  {
   "cell_type": "markdown",
   "metadata": {},
   "source": [
    "Product 2: Price Constant\n",
    "\n",
    "The ratio of the profit after the price change to the profit before the price change is $\\frac{π_{2,1}}{π_{2,0}} ≈ 0.954$\n",
    "\n",
    "- There is a slight decrease in demand (quantity ratio ≈ 0.954) due to the reasons explained in Question 3.\n",
    "- Since the price remained constant, the profit margin remains unchanged, and thus the overall profit for product 2 slightly decreases.\n",
    "- This indicates that product 2 does not benefit or suffer significantly from the price change scenario. The demand is slightly lower, but the constant price ensures the profit margin does not change much."
   ]
  },
  {
   "cell_type": "markdown",
   "metadata": {},
   "source": [
    "Product 3: Price Decrease\n",
    "\n",
    "The ratio of the profit after the price change to the profit before the price change is $\\frac{π_{3,1}}{π_{3,0}} ≈ 0.692$\n",
    "\n",
    "- The price decrease leads to an increase in demand, as shown by the quantity ratio ($≈ 1.258$) due to the reasons explained in Question 3.\n",
    "- However, the profit margin per unit decreases significantly due to the price reduction.\n",
    "- The overall profit is reduced to about 69.2% of the original, indicating that the price cut is not justified. The increase in demand is not sufficient to offset the loss in profit per unit, and the overall profit declines."
   ]
  },
  {
   "cell_type": "markdown",
   "metadata": {},
   "source": [
    "#### Question C"
   ]
  },
  {
   "cell_type": "markdown",
   "metadata": {},
   "source": [
    "***Now write a function that takes as input the price change percentages (γ1, γ2, γ3), the price and price elasticities for the three products, the retail margin (r), and the marginal costs C1, C2, C3 and gives as output the ratios of new to old profits: π11 , π21 , π31 . (Note: You can also simplify the function by simply using the vector \"quantity_changes\" that you stored in Question 3 and thereby avoid using price elasticities in this function. This is not necessary, but you may find that this simplifies your function specification significantly).***"
   ]
  },
  {
   "cell_type": "markdown",
   "metadata": {},
   "source": [
    "For programming a function that determines the ratio between profits before and after the price change, we have two choices:\n",
    "\n",
    "- code a function that uses elasticities\n",
    "- code a function that uses quantity changes\n",
    "\n",
    "In order to compare these two approaches, we decided to code these two functions and we will then verify that they produce the same result."
   ]
  },
  {
   "cell_type": "markdown",
   "metadata": {},
   "source": [
    "The first function for determining profit ratios uses elasticities."
   ]
  },
  {
   "cell_type": "code",
   "execution_count": 9,
   "metadata": {},
   "outputs": [],
   "source": [
    "def profit_ratios_with_elasticities(price_changes, elasticities, marginal_costs, base_prices, retail_margin):\n",
    "    \"\"\"\n",
    "    Calculate the profit ratios for a set of products after applying price changes, accounting for elasticities.\n",
    "    \n",
    "    Parameters:\n",
    "    - price_changes (list of float): Percentage changes in prices for each product, where each element\n",
    "                                     corresponds to the price change for a product (e.g., 0.05 for a 5% increase).\n",
    "    - elasticities (list of list of float): Cross-elasticities between products, represented as a matrix where\n",
    "                                            elasticities[i][j] is the elasticity of product i with respect to \n",
    "                                            the price of product j.\n",
    "    - marginal_costs (list of float): The marginal cost associated with each product, representing the variable cost\n",
    "                                      to produce one unit of each product.\n",
    "    - base_prices (list of float): Initial (base) prices of each product before any price change is applied.\n",
    "    - retail_margin (float): The percentage margin that retailers add to the cost price when selling the product.\n",
    "                             For example, if the retail margin is 0.1, it represents a 10% markup on the product.\n",
    "                             \n",
    "    Returns:\n",
    "    - dict: A dictionary where each key is 'profit_ratio_product_{i+1}' representing the product, and the value is \n",
    "            the calculated profit ratio after the price change for that product.\n",
    "    \"\"\"\n",
    "    \n",
    "    profit_ratios = {}  # Initialize an empty dictionary to store the profit ratios for each product\n",
    "    num_products = len(base_prices)  # Get the number of products, which is the length of the base_prices list\n",
    "    \n",
    "    # Loop through each product to calculate the profit ratios\n",
    "    for i in range(num_products):\n",
    "        # Step 1: Calculate the quantity ratio based on the elasticities and price changes\n",
    "        quantity_ratio = 1  # Initialize quantity ratio for this product to 1 (start value)\n",
    "        for j in range(num_products):\n",
    "            # Multiply the current quantity ratio by the effect of the price change for product j\n",
    "            # This is the elasticity-based adjustment for product i's quantity\n",
    "            quantity_ratio *= (1 + price_changes[j]) ** elasticities[i][j]\n",
    "        \n",
    "        # Step 2: Calculate the base profit (profit before any price changes)\n",
    "        base_profit = base_prices[i] * (1 - retail_margin) - marginal_costs[i]\n",
    "        # Step 3: Calculate the new price for product i after applying the price change\n",
    "        new_price = base_prices[i] * (1 + price_changes[i])\n",
    "        \n",
    "        # Step 4: Calculate the profit ratio after the price change for product i\n",
    "        profit_ratio = quantity_ratio * (new_price * (1 - retail_margin) - marginal_costs[i]) / base_profit\n",
    "        \n",
    "        # Step 5: Store the calculated profit ratio in the profit_ratios dictionary\n",
    "        profit_ratios[f'profit_ratio_product_{i+1}'] = profit_ratio\n",
    "    \n",
    "    return profit_ratios  # Return the dictionary containing profit ratios for each product"
   ]
  },
  {
   "cell_type": "markdown",
   "metadata": {},
   "source": [
    "The second function for determining profit ratios uses quantity changes."
   ]
  },
  {
   "cell_type": "code",
   "execution_count": 10,
   "metadata": {},
   "outputs": [],
   "source": [
    "def profit_ratios_with_quantity_changes(price_changes, quantity_changes, marginal_costs, base_prices, retail_margin):\n",
    "    \"\"\"\n",
    "    Calculate the profit ratios for a set of products after applying price changes, \n",
    "    accounting for quantity changes due to those price adjustments.\n",
    "    \n",
    "    Parameters:\n",
    "    - price_changes (list of float): Percentage changes in prices for each product, where each element\n",
    "                                     corresponds to the price change for a product (e.g., 0.05 for a 5% increase).\n",
    "    - quantity_changes (list of float): Expected change in quantity sold for each product due to price changes.\n",
    "                                        Each element represents the factor by which quantity changes \n",
    "                                        (e.g., 1.1 for a 10% increase, 0.9 for a 10% decrease).\n",
    "    - marginal_costs (list of float): The marginal cost associated with each product, representing the variable cost\n",
    "                                      to produce one unit of each product.\n",
    "    - base_prices (list of float): Initial (base) prices of each product before any price change is applied.\n",
    "    - retail_margin (float): The percentage margin that retailers add to the cost price when selling the product.\n",
    "                             For example, if the retail margin is 0.2, it represents a 20% markup on the product.\n",
    "                             \n",
    "    Returns:\n",
    "    - dict: A dictionary where each key is 'profit_ratio_product_{i+1}' representing the product, and the value is \n",
    "            the calculated profit ratio after the price and quantity change for that product.\n",
    "    \"\"\"\n",
    "    \n",
    "    profit_ratios = {}  # Initialize an empty dictionary to store the profit ratios for each product\n",
    "    num_products = len(base_prices)  # Get the number of products based on the length of base_prices\n",
    "    \n",
    "    # Loop through each product to calculate the profit ratios\n",
    "    for i in range(num_products):\n",
    "        ratio = 1  # Initialize the profit ratio for the current product as 1 (start value)\n",
    "        \n",
    "        # Step 1: Calculate the change in profit for product i using the quantity change\n",
    "        ratio *= quantity_changes[i] * (base_prices[i] * (1 + price_changes[i]) * (1 - retail_margin) - marginal_costs[i]) / (base_prices[i] * (1 - retail_margin) - marginal_costs[i])\n",
    "        \n",
    "        # Step 2: Store the profit ratio for product i in the profit_ratios dictionary\n",
    "        profit_ratios[f'profit_ratio_product_{i+1}'] = ratio\n",
    "    \n",
    "    return profit_ratios  # Return the dictionary containing the profit ratios for each product"
   ]
  },
  {
   "cell_type": "markdown",
   "metadata": {},
   "source": [
    "#### Question D"
   ]
  },
  {
   "cell_type": "markdown",
   "metadata": {},
   "source": [
    "***Evaluate the function at the values specified earlier and store the results in an array named \"profit_changes\". Check if the results from the function are the same as that from in Question A.***"
   ]
  },
  {
   "cell_type": "markdown",
   "metadata": {},
   "source": [
    "We first start by running and testing the function using the elasticities as input variable."
   ]
  },
  {
   "cell_type": "code",
   "execution_count": 11,
   "metadata": {},
   "outputs": [
    {
     "name": "stdout",
     "output_type": "stream",
     "text": [
      "{'profit_ratio_product_1': 0.7787551130826625, 'profit_ratio_product_2': 0.95398593595287, 'profit_ratio_product_3': 0.6916597255123126}\n",
      "<class 'dict'>\n"
     ]
    }
   ],
   "source": [
    "# List of price changes for each product\n",
    "price_changes = [0.05, 0, -0.15]  # 5% increase for product 1, no change for product 2, 15% decrease for product 3\n",
    "\n",
    "# Elasticity matrix representing the responsiveness of product quantity to price changes of all products\n",
    "elasticities = [\n",
    "    [-2.5, 1.5, 1.2],  # Elasticities for product 1 in relation to its own price and the prices of products 2 and 3\n",
    "    [0.7, -1.5, 0.5],  # Elasticities for product 2\n",
    "    [0.7, 0.4, -1.2]   # Elasticities for product 3\n",
    "]\n",
    "\n",
    "# Marginal costs for each product\n",
    "marginal_costs = [0.5, 0.75, 0.9]  # Marginal cost per unit for product 1, 2, and 3\n",
    "\n",
    "# Base prices for each product\n",
    "base_prices = [2, 1.75, 1.5]  # Initial selling price for product 1, 2, and 3\n",
    "\n",
    "# Retail margin, representing the percentage of the selling price retained after retailer's cut\n",
    "retail_margin = 0.1  # 10% margin for all products\n",
    "\n",
    "# Call the profit calculation function using the price changes, elasticities, marginal costs, base prices, and retail margin\n",
    "profit_ratios_elasticities = profit_ratios_with_elasticities(price_changes, elasticities, marginal_costs, base_prices, retail_margin)\n",
    "\n",
    "# Output the calculated profit ratios for each product, stored as a dictionary\n",
    "print(profit_ratios_elasticities)\n",
    "\n",
    "# Print the type of the object returned by the function (should be a dictionary)\n",
    "print(type(profit_ratios_elasticities))"
   ]
  },
  {
   "cell_type": "markdown",
   "metadata": {},
   "source": [
    "To make it easier to read the results of the changes in profits of the different products, we decided to store them in a dictionary. However, for data manipulation reasons we will transform them into a \"np.array\" format."
   ]
  },
  {
   "cell_type": "code",
   "execution_count": 12,
   "metadata": {},
   "outputs": [
    {
     "name": "stdout",
     "output_type": "stream",
     "text": [
      "[0.77875511 0.95398594 0.69165973]\n",
      "<class 'numpy.ndarray'>\n"
     ]
    }
   ],
   "source": [
    "# Convert the values of the profit_ratios_elasticities dictionary into a numpy array for easy manipulation\n",
    "profit_changes_elasticities = np.array(list(profit_ratios_elasticities.values()))\n",
    "\n",
    "# Print the numpy array containing the profit changes calculated for each product\n",
    "print(profit_changes_elasticities)\n",
    "\n",
    "# Print the type of the profit_changes_elasticities object, which should be a numpy array\n",
    "print(type(profit_changes_elasticities))"
   ]
  },
  {
   "cell_type": "markdown",
   "metadata": {},
   "source": [
    "Then we run and test the function using the quantity changes as input variable."
   ]
  },
  {
   "cell_type": "code",
   "execution_count": 13,
   "metadata": {},
   "outputs": [
    {
     "name": "stdout",
     "output_type": "stream",
     "text": [
      "{'profit_ratio_product_1': 0.7787551130826625, 'profit_ratio_product_2': 0.95398593595287, 'profit_ratio_product_3': 0.6916597255123126}\n",
      "<class 'dict'>\n"
     ]
    }
   ],
   "source": [
    "# List of price changes for each product\n",
    "price_changes = [0.05, 0, -0.15]  # 5% increase for product 1, no change for product 2, 15% decrease for product 3\n",
    "\n",
    "# Assuming quantity_changes is already defined (for example, from a previous calculation or function)\n",
    "quantity_changes = quantity_changes  # Quantity changes for each product after price changes (from previous calculations)\n",
    "\n",
    "# Marginal costs for each product\n",
    "marginal_costs = [0.5, 0.75, 0.9]  # Marginal cost per unit for product 1, 2, and 3\n",
    "\n",
    "# Base prices for each product\n",
    "base_prices = [2, 1.75, 1.5]  # Initial selling price for product 1, 2, and 3\n",
    "\n",
    "# Retail margin, representing the percentage of the selling price retained after retailer's cut\n",
    "retail_margin = 0.1  # 10% margin for all products\n",
    "\n",
    "# Call the profit calculation function using price changes, quantity changes, marginal costs, base prices, and retail margin\n",
    "profit_ratios_quantity_changes = profit_ratios_with_quantity_changes(price_changes, quantity_changes, marginal_costs, base_prices, retail_margin)\n",
    "\n",
    "# Output the calculated profit ratios for each product, stored as a dictionary\n",
    "print(profit_ratios_quantity_changes)\n",
    "\n",
    "# Print the type of the profit_ratios_quantity_changes object, which should be a dictionary\n",
    "print(type(profit_ratios_quantity_changes))"
   ]
  },
  {
   "cell_type": "markdown",
   "metadata": {},
   "source": [
    "To make it easier to read the results of the changes in profits of the different products, we decided to store them in a dictionary. However, for data manipulation reasons we will transform them into a \"np.array\" format."
   ]
  },
  {
   "cell_type": "code",
   "execution_count": 14,
   "metadata": {},
   "outputs": [
    {
     "name": "stdout",
     "output_type": "stream",
     "text": [
      "[0.77875511 0.95398594 0.69165973]\n",
      "<class 'numpy.ndarray'>\n"
     ]
    }
   ],
   "source": [
    "# Convert the values of the profit_ratios_quantity_changes dictionary into a numpy array for easier manipulation\n",
    "profit_changes_quantity_changes = np.array(list(profit_ratios_quantity_changes.values()))\n",
    "\n",
    "# Output the numpy array containing the profit changes calculated for each product\n",
    "print(profit_changes_quantity_changes)\n",
    "\n",
    "# Print the type of the profit_changes_quantity_changes object, which should be a numpy array\n",
    "print(type(profit_changes_quantity_changes))"
   ]
  },
  {
   "cell_type": "markdown",
   "metadata": {},
   "source": [
    "To more easily (and scientifically) compare the results of the two functions, we decided to create a function capable of calculating the difference in errors in percentage between two arrays."
   ]
  },
  {
   "cell_type": "code",
   "execution_count": 15,
   "metadata": {},
   "outputs": [
    {
     "name": "stdout",
     "output_type": "stream",
     "text": [
      "[0.0, 0.0, 0.0]\n"
     ]
    }
   ],
   "source": [
    "# Assign the profit changes calculated using quantity changes to a variable\n",
    "profit_changes_python = profit_changes_quantity_changes  # Profit changes calculated using quantity changes\n",
    "\n",
    "# Assign the profit changes calculated using elasticities to a variable\n",
    "profit_changes_calculator = profit_changes_elasticities  # Profit changes calculated using elasticities\n",
    "\n",
    "# Calculate the percentage errors between the two profit change calculations\n",
    "errors = calculate_percentage_errors(profit_changes_python, profit_changes_calculator)\n",
    "\n",
    "# Output the calculated errors as a list of percentage differences\n",
    "print(errors)"
   ]
  },
  {
   "cell_type": "markdown",
   "metadata": {},
   "source": [
    "As we can see the difference in errors between the two functions for each products is 0%, so we can conclude that the two functions provide the same results. However, for reasons of ease and consistency in our approach, we recommend choosing the function that uses quantity changes as an input variable."
   ]
  },
  {
   "cell_type": "markdown",
   "metadata": {},
   "source": [
    "Now we want to compare the results of the function programmed in python (with the changes in quantities) and the calculations performed with the calculator."
   ]
  },
  {
   "cell_type": "code",
   "execution_count": 16,
   "metadata": {},
   "outputs": [
    {
     "name": "stdout",
     "output_type": "stream",
     "text": [
      "[0.09696412517581306, 0.00147424051026023, 0.04919680518268182]\n"
     ]
    }
   ],
   "source": [
    "# Assign the profit changes calculated using quantity changes to a variable\n",
    "profit_changes_python = profit_changes_quantity_changes  # Profit changes calculated using quantity changes\n",
    "\n",
    "# Define a numpy array for the actual profit changes (calculated by hand)\n",
    "profit_changes_calculator = np.array([0.778, 0.954, 0.692])  # Actual profit changes for comparison\n",
    "\n",
    "# Calculate the percentage errors between the two profit change calculations\n",
    "errors = calculate_percentage_errors(profit_changes_python, profit_changes_calculator)\n",
    "\n",
    "# Output the calculated errors as a list of percentage differences\n",
    "print(errors)"
   ]
  },
  {
   "cell_type": "markdown",
   "metadata": {},
   "source": [
    "As we can see the difference in errors between the two methods for :\n",
    "\n",
    "- the product 1 is approximatively 0.1%\n",
    "- the product 2 is approximatively 0.001%\n",
    "- the product 3 is approximatively 0.05%\n",
    "\n",
    "We can therefore conclude with confidence that the results between the two methods are substantially identical. The function gives us the same results as the calculations."
   ]
  },
  {
   "cell_type": "markdown",
   "metadata": {},
   "source": [
    "### Question 5"
   ]
  },
  {
   "cell_type": "markdown",
   "metadata": {},
   "source": [
    "***Can you calculate the highest marginal cost at which this price cut is justified for product 3?***"
   ]
  },
  {
   "cell_type": "markdown",
   "metadata": {},
   "source": [
    "In the current situation, the marginal cost of product 3 is $0.9 and it suffers a price cut of 15% (i.e. 0.15). However, with a profit decrease of about 31%, the price cut is not justified given the current marginal cost of product 3.\n",
    "\n",
    "*Reminder* : the ratio of the profit after the price change to the profit before the price change is $\\frac{π_{3,1}}{π_{3,0}} ≈ 0.692$"
   ]
  },
  {
   "cell_type": "markdown",
   "metadata": {},
   "source": [
    "We can define a price cut as being justified if it allows for increased profits, that is to say that the ratio between the profits after and before the price cut is: $\\frac{π_{3,1}}{π_{3,0}} > 1$\n",
    "\n",
    "So, to determine what is the highest marginal cost that justifies the price cut for product 3, we will solve the following equation with unknown $C_{3}$:\n",
    "\n",
    "$\\frac{Q_{3,1}}{Q_{3,0}} \\cdot \\frac{(P_{3,0} \\cdot (1+γ_{3}) \\cdot (1-r_{3})-C_{3})}{(P_{3,0} \\cdot (1-r_{3})-C_{3})} = 1$"
   ]
  },
  {
   "cell_type": "code",
   "execution_count": 17,
   "metadata": {},
   "outputs": [],
   "source": [
    "def solve_for_highest_marginal_cost(base_price, quantity_change, price_change, retail_margin):\n",
    "    \"\"\"\n",
    "    This function solves for the marginal cost (MC) that maximizes a certain expression.\n",
    "\n",
    "    Parameters:\n",
    "    base_price (float): The base price of the product.\n",
    "    quantity_change (float): The change in quantity of the product.\n",
    "    price_change (float): The change in price of the product.\n",
    "    retail_margin (float): The retail margin of the product.\n",
    "\n",
    "    Returns:\n",
    "    C3_solution (float): The value of the marginal cost that maximizes the expression.\n",
    "    \"\"\"\n",
    "    # Create a symbolic variable for marginal cost\n",
    "    MC = symbols('MC')\n",
    "\n",
    "    # Define the left-hand side of the equation\n",
    "    lhs = quantity_change * (base_price * (1 + price_change) * (1 - retail_margin) - MC)\n",
    "\n",
    "    # Define the right-hand side of the equation\n",
    "    rhs = base_price * (1 - retail_margin) - MC\n",
    "\n",
    "    # Create an equation by setting the left-hand side equal to the right-hand side\n",
    "    equation = Eq(lhs / rhs, 1)\n",
    "\n",
    "    # Solve the equation for the marginal cost\n",
    "    C3_solution = solve(equation, MC)\n",
    "\n",
    "    # Return the solution\n",
    "    return C3_solution"
   ]
  },
  {
   "cell_type": "code",
   "execution_count": 18,
   "metadata": {},
   "outputs": [
    {
     "name": "stdout",
     "output_type": "stream",
     "text": [
      "[0.361285007720345]\n",
      "<class 'list'>\n"
     ]
    }
   ],
   "source": [
    "# Set the base price of the product\n",
    "base_price = 1.5\n",
    "\n",
    "# Set the quantity change of the product to the third element of the quantity_changes array\n",
    "quantity_change = quantity_changes[2]\n",
    "\n",
    "# Set the price change of the product to a decrease of 15%\n",
    "price_change = -0.15\n",
    "\n",
    "# Set the retail margin of the product to 10%\n",
    "retail_margin = 0.1\n",
    "\n",
    "# Call the solve_for_highest_marginal_cost function with the specified parameters\n",
    "C3_solution = solve_for_highest_marginal_cost(base_price, quantity_change, price_change, retail_margin)\n",
    "\n",
    "# Print the solution to the console\n",
    "print(C3_solution)\n",
    "\n",
    "# Print the type of the solution to the console\n",
    "print(type(C3_solution))"
   ]
  },
  {
   "cell_type": "markdown",
   "metadata": {},
   "source": [
    "The highest marginal cost at which the cut price is justified for product 3 is $C_{3} ≈ 0.36$ because that this is the maximum value of marginal cost at which the profit ratio is equal to 1 (meaning that the price change has not changed profits)."
   ]
  }
 ],
 "metadata": {
  "kernelspec": {
   "display_name": "pyenv",
   "language": "python",
   "name": "python3"
  },
  "language_info": {
   "codemirror_mode": {
    "name": "ipython",
    "version": 3
   },
   "file_extension": ".py",
   "mimetype": "text/x-python",
   "name": "python",
   "nbconvert_exporter": "python",
   "pygments_lexer": "ipython3",
   "version": "3.12.7"
  }
 },
 "nbformat": 4,
 "nbformat_minor": 2
}
